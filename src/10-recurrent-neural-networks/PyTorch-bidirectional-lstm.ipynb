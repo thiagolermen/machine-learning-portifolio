{
  "nbformat": 4,
  "nbformat_minor": 0,
  "metadata": {
    "colab": {
      "name": "PyTorch-bidirectional-lstm.ipynb",
      "provenance": [],
      "authorship_tag": "ABX9TyNegX19SYj4KR2wvaU+oDdw",
      "include_colab_link": true
    },
    "kernelspec": {
      "name": "python3",
      "display_name": "Python 3"
    },
    "language_info": {
      "name": "python"
    }
  },
  "cells": [
    {
      "cell_type": "markdown",
      "metadata": {
        "id": "view-in-github",
        "colab_type": "text"
      },
      "source": [
        "<a href=\"https://colab.research.google.com/github/thiagolermen/machine-learning-portifolio/blob/main/src/10-recurrent-neural-networks/PyTorch-bidirectional-lstm.ipynb\" target=\"_parent\"><img src=\"https://colab.research.google.com/assets/colab-badge.svg\" alt=\"Open In Colab\"/></a>"
      ]
    },
    {
      "cell_type": "markdown",
      "metadata": {
        "id": "kPAPC4Vq5dhL"
      },
      "source": [
        "# Bidirectional LSTM - PyTorch"
      ]
    },
    {
      "cell_type": "code",
      "metadata": {
        "id": "CjoAuDOl5bgL"
      },
      "source": [
        ""
      ],
      "execution_count": null,
      "outputs": []
    }
  ]
}