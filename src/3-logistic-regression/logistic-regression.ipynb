{
  "nbformat": 4,
  "nbformat_minor": 0,
  "metadata": {
    "colab": {
      "name": "LogisticRegression.ipynb",
      "provenance": [],
      "authorship_tag": "ABX9TyMLKBoLXs96XrMp2eGcDU74",
      "include_colab_link": true
    },
    "kernelspec": {
      "name": "python3",
      "display_name": "Python 3"
    },
    "language_info": {
      "name": "python"
    }
  },
  "cells": [
    {
      "cell_type": "markdown",
      "metadata": {
        "id": "view-in-github",
        "colab_type": "text"
      },
      "source": [
        "<a href=\"https://colab.research.google.com/github/thiagolermen/ml-course/blob/main/LogisticRegression.ipynb\" target=\"_parent\"><img src=\"https://colab.research.google.com/assets/colab-badge.svg\" alt=\"Open In Colab\"/></a>"
      ]
    },
    {
      "cell_type": "markdown",
      "metadata": {
        "id": "zm1YRKcBTeBN"
      },
      "source": [
        "# Logistic Regression"
      ]
    },
    {
      "cell_type": "markdown",
      "metadata": {
        "id": "wcv0oU-ZYWlC"
      },
      "source": [
        "Suppose that you are the administrator of a university department and you want to determine each applicant's chance of admission based on their results on two exams. You have historical data from previous applicants that you can use as a training set. For each training example, you have the applicant's scores on two exams and the admissions decision. To accomplish this, we're going to build a classification model that estimates the probability of admission based on the exam scores using a somewhat confusingly-named technique called logistic regression."
      ]
    },
    {
      "cell_type": "markdown",
      "metadata": {
        "id": "84gh178eX10S"
      },
      "source": [
        "## Imports"
      ]
    },
    {
      "cell_type": "code",
      "metadata": {
        "id": "cEeOQk2-TTII"
      },
      "source": [
        "import os\n",
        "import numpy as np\n",
        "import pandas as pd\n",
        "import matplotlib.pyplot as plt\n",
        "%matplotlib inline"
      ],
      "execution_count": 278,
      "outputs": []
    },
    {
      "cell_type": "markdown",
      "metadata": {
        "id": "fQsPO-dEX3Fj"
      },
      "source": [
        "## Dataset"
      ]
    },
    {
      "cell_type": "code",
      "metadata": {
        "colab": {
          "base_uri": "https://localhost:8080/",
          "height": 204
        },
        "id": "ifzhn5SCX4qr",
        "outputId": "d7e0e0e5-cc79-4cc4-c140-9fd3d962141b"
      },
      "source": [
        "path = 'https://raw.githubusercontent.com/thiagolermen/ml-course/main/data/ex2data1.txt?token=AL353PG6ZD4354U2IPCXURDAXUEQK'\n",
        "data = pd.read_csv(path, header=None, names=[\"Exam 1\", \"Exam 2\", \"Admitted\"])\n",
        "data.head()"
      ],
      "execution_count": 279,
      "outputs": [
        {
          "output_type": "execute_result",
          "data": {
            "text/html": [
              "<div>\n",
              "<style scoped>\n",
              "    .dataframe tbody tr th:only-of-type {\n",
              "        vertical-align: middle;\n",
              "    }\n",
              "\n",
              "    .dataframe tbody tr th {\n",
              "        vertical-align: top;\n",
              "    }\n",
              "\n",
              "    .dataframe thead th {\n",
              "        text-align: right;\n",
              "    }\n",
              "</style>\n",
              "<table border=\"1\" class=\"dataframe\">\n",
              "  <thead>\n",
              "    <tr style=\"text-align: right;\">\n",
              "      <th></th>\n",
              "      <th>Exam 1</th>\n",
              "      <th>Exam 2</th>\n",
              "      <th>Admitted</th>\n",
              "    </tr>\n",
              "  </thead>\n",
              "  <tbody>\n",
              "    <tr>\n",
              "      <th>0</th>\n",
              "      <td>34.623660</td>\n",
              "      <td>78.024693</td>\n",
              "      <td>0</td>\n",
              "    </tr>\n",
              "    <tr>\n",
              "      <th>1</th>\n",
              "      <td>30.286711</td>\n",
              "      <td>43.894998</td>\n",
              "      <td>0</td>\n",
              "    </tr>\n",
              "    <tr>\n",
              "      <th>2</th>\n",
              "      <td>35.847409</td>\n",
              "      <td>72.902198</td>\n",
              "      <td>0</td>\n",
              "    </tr>\n",
              "    <tr>\n",
              "      <th>3</th>\n",
              "      <td>60.182599</td>\n",
              "      <td>86.308552</td>\n",
              "      <td>1</td>\n",
              "    </tr>\n",
              "    <tr>\n",
              "      <th>4</th>\n",
              "      <td>79.032736</td>\n",
              "      <td>75.344376</td>\n",
              "      <td>1</td>\n",
              "    </tr>\n",
              "  </tbody>\n",
              "</table>\n",
              "</div>"
            ],
            "text/plain": [
              "      Exam 1     Exam 2  Admitted\n",
              "0  34.623660  78.024693         0\n",
              "1  30.286711  43.894998         0\n",
              "2  35.847409  72.902198         0\n",
              "3  60.182599  86.308552         1\n",
              "4  79.032736  75.344376         1"
            ]
          },
          "metadata": {
            "tags": []
          },
          "execution_count": 279
        }
      ]
    },
    {
      "cell_type": "code",
      "metadata": {
        "colab": {
          "base_uri": "https://localhost:8080/",
          "height": 405
        },
        "id": "s47EZICxYegx",
        "outputId": "aec4c847-1b91-4f84-bc91-99b1932ad48d"
      },
      "source": [
        "positive = data[data['Admitted'].isin([1])]\n",
        "negative = data[data['Admitted'].isin([0])]\n",
        "\n",
        "fig, ax = plt.subplots(figsize=(8,6))\n",
        "ax.scatter(positive['Exam 1'], positive['Exam 2'], s=50, c='b', marker='o', label='Admitted')\n",
        "ax.scatter(negative['Exam 1'], negative['Exam 2'], s=50, c='r', marker='x', label='Not Admitted')\n",
        "ax.legend()\n",
        "ax.set_xlabel('Exam 1 Score')\n",
        "ax.set_ylabel('Exam 2 Score')"
      ],
      "execution_count": 280,
      "outputs": [
        {
          "output_type": "execute_result",
          "data": {
            "text/plain": [
              "Text(0, 0.5, 'Exam 2 Score')"
            ]
          },
          "metadata": {
            "tags": []
          },
          "execution_count": 280
        },
        {
          "output_type": "display_data",
          "data": {
            "image/png": "[encoded data removed]",
            "text/plain": [
              "<Figure size 576x432 with 1 Axes>"
            ]
          },
          "metadata": {
            "tags": [],
            "needs_background": "light"
          }
        }
      ]
    },
    {
      "cell_type": "code",
      "metadata": {
        "id": "2LjbiJxVcpLH"
      },
      "source": [
        "# add ones column\n",
        "data.insert(0, 'Ones', 1)\n",
        "\n",
        "# set X (training data) and y (target variable)\n",
        "cols = data.shape[1]\n",
        "X = data.iloc[:,0:cols-1]\n",
        "y = data.iloc[:,cols-1:cols]\n",
        "\n",
        "# convert to matrices and initialize theta\n",
        "X = np.array(X.values)\n",
        "y = np.array(y.values)\n",
        "theta = np.zeros(3)"
      ],
      "execution_count": 281,
      "outputs": []
    },
    {
      "cell_type": "code",
      "metadata": {
        "colab": {
          "base_uri": "https://localhost:8080/"
        },
        "id": "WYpA-dg7c49i",
        "outputId": "bb6940eb-1504-4434-818d-b8940018cc18"
      },
      "source": [
        "print(f\" X.shape: {X.shape} \\n y.shape: {y.shape} \\n theta.shape {theta.shape}\")"
      ],
      "execution_count": 282,
      "outputs": [
        {
          "output_type": "stream",
          "text": [
            " X.shape: (100, 3) \n",
            " y.shape: (100, 1) \n",
            " theta.shape (3,)\n"
          ],
          "name": "stdout"
        }
      ]
    },
    {
      "cell_type": "markdown",
      "metadata": {
        "id": "7_hKz2Dgba9f"
      },
      "source": [
        "## Activation function"
      ]
    },
    {
      "cell_type": "markdown",
      "metadata": {
        "id": "uNXiT3Q_bgyB"
      },
      "source": [
        "Sigmoid function\n",
        "\n",
        "$\n",
        "g(z) = \\frac{1}{1+e^{-z}}\n",
        "$"
      ]
    },
    {
      "cell_type": "code",
      "metadata": {
        "id": "QFVN9AyObclN"
      },
      "source": [
        "def sigmoid(z):\n",
        "  return 1 / (1 + np.exp(-z))"
      ],
      "execution_count": 283,
      "outputs": []
    },
    {
      "cell_type": "code",
      "metadata": {
        "colab": {
          "base_uri": "https://localhost:8080/",
          "height": 391
        },
        "id": "u0cs37wfcSAV",
        "outputId": "d76dce86-b3b9-419f-b497-8467019bcac7"
      },
      "source": [
        "nums = np.arange(-10, 10, step=1)\n",
        "\n",
        "fig, ax = plt.subplots(figsize=(8,6))\n",
        "ax.plot(nums, sigmoid(nums), 'r')"
      ],
      "execution_count": 284,
      "outputs": [
        {
          "output_type": "execute_result",
          "data": {
            "text/plain": [
              "[<matplotlib.lines.Line2D at 0x7f8dbfc7f150>]"
            ]
          },
          "metadata": {
            "tags": []
          },
          "execution_count": 284
        },
        {
          "output_type": "display_data",
          "data": {
            "image/png": "[encoded data removed]",
            "text/plain": [
              "<Figure size 576x432 with 1 Axes>"
            ]
          },
          "metadata": {
            "tags": [],
            "needs_background": "light"
          }
        }
      ]
    },
    {
      "cell_type": "markdown",
      "metadata": {
        "id": "sbcjpVX3cYaP"
      },
      "source": [
        "## Cost function"
      ]
    },
    {
      "cell_type": "markdown",
      "metadata": {
        "id": "ZeOrrTA4cark"
      },
      "source": [
        "Cost function\n",
        "\n",
        "$J(\\theta) = -\\frac{1}{m} \\displaystyle \\sum _{i=1}^m \\left [y^{(i)} \\cdot log(h_\\theta(x^{(i)})) + (1-y^{(i)}) \\cdot log(1-h_\\theta(x^{(i)})) \\right]\n",
        "$"
      ]
    },
    {
      "cell_type": "code",
      "metadata": {
        "id": "p2NLbEaYcaBC"
      },
      "source": [
        "def loss(theta, X, y):\n",
        "  theta = np.matrix(theta)\n",
        "  X = np.matrix(X)\n",
        "  y = np.matrix(y)\n",
        "  z = X * theta.T\n",
        "  h = sigmoid(z)\n",
        "  first = np.multiply(y, np.log(h))\n",
        "  second = np.multiply((1 - y), np.log(1 - h))\n",
        "  return np.sum(first + second) / (-len(X))"
      ],
      "execution_count": 285,
      "outputs": []
    },
    {
      "cell_type": "code",
      "metadata": {
        "colab": {
          "base_uri": "https://localhost:8080/"
        },
        "id": "4SylZn3FeeO6",
        "outputId": "709d627a-797c-4b29-9e63-91d9d7b5a101"
      },
      "source": [
        "loss(theta, X, y)"
      ],
      "execution_count": 286,
      "outputs": [
        {
          "output_type": "execute_result",
          "data": {
            "text/plain": [
              "0.6931471805599453"
            ]
          },
          "metadata": {
            "tags": []
          },
          "execution_count": 286
        }
      ]
    },
    {
      "cell_type": "markdown",
      "metadata": {
        "id": "A1Fg79uVfsoR"
      },
      "source": [
        "## Gradient descent"
      ]
    },
    {
      "cell_type": "markdown",
      "metadata": {
        "id": "udNtBel1fuLg"
      },
      "source": [
        "Gradient descent\n",
        "\n",
        "$\\theta_j := \\theta_j - \\dfrac {\\alpha}{m} \\displaystyle \\sum _{i=1}^m \\left (h_\\theta (x^{(i)}) - y^{(i)} \\right) \\cdot x^{(i)}_j$"
      ]
    },
    {
      "cell_type": "code",
      "metadata": {
        "id": "ySjkHgzWfy-y"
      },
      "source": [
        "def gradient_descent(theta, X, y):\n",
        "  theta = np.matrix(theta)\n",
        "  X = np.matrix(X)\n",
        "  y = np.matrix(y)\n",
        "\n",
        "  parameters = int(theta.ravel().shape[1])\n",
        "  grad = np.zeros(parameters)\n",
        "\n",
        "  z = X * theta.T\n",
        "  h = sigmoid(z)\n",
        "  error = h - y\n",
        "\n",
        "  for i in range(parameters):\n",
        "    term = np.multiply(error, X[:,i])\n",
        "    grad[i] = np.sum(term) / (len(X))\n",
        "\n",
        "  return grad\n"
      ],
      "execution_count": 287,
      "outputs": []
    },
    {
      "cell_type": "code",
      "metadata": {
        "colab": {
          "base_uri": "https://localhost:8080/"
        },
        "id": "Yh_tsZ3Dg_vh",
        "outputId": "efa9ee08-516c-4692-c57a-1dadcb40c0ac"
      },
      "source": [
        "gradient_descent(theta, X, y)"
      ],
      "execution_count": 288,
      "outputs": [
        {
          "output_type": "execute_result",
          "data": {
            "text/plain": [
              "array([ -0.1       , -12.00921659, -11.26284221])"
            ]
          },
          "metadata": {
            "tags": []
          },
          "execution_count": 288
        }
      ]
    },
    {
      "cell_type": "markdown",
      "metadata": {
        "id": "NPGYpg9IhmLi"
      },
      "source": [
        "Optimize gradient descent"
      ]
    },
    {
      "cell_type": "code",
      "metadata": {
        "id": "M-XCgwTAhdRw"
      },
      "source": [
        "import scipy.optimize as opt\n",
        "def fit(theta, X, y):\n",
        "  opt_weights = opt.fmin_tnc(func=cost, x0=theta, fprime=gradient_descent,args=(X, y))\n",
        "  return opt_weights"
      ],
      "execution_count": 289,
      "outputs": []
    },
    {
      "cell_type": "code",
      "metadata": {
        "colab": {
          "base_uri": "https://localhost:8080/"
        },
        "id": "_xHBjTQblRG8",
        "outputId": "710fbe01-4d2e-45cd-ed66-452ca86d0cf1"
      },
      "source": [
        "opt_weights = fit(theta, X, y)\n",
        "cost(opt_weights[0], X, y)"
      ],
      "execution_count": 290,
      "outputs": [
        {
          "output_type": "execute_result",
          "data": {
            "text/plain": [
              "0.20349770158947472"
            ]
          },
          "metadata": {
            "tags": []
          },
          "execution_count": 290
        }
      ]
    },
    {
      "cell_type": "markdown",
      "metadata": {
        "id": "NvDBhGZsoKQb"
      },
      "source": [
        "## Predictions"
      ]
    },
    {
      "cell_type": "code",
      "metadata": {
        "colab": {
          "base_uri": "https://localhost:8080/",
          "height": 282
        },
        "id": "llpK9wNXoZwy",
        "outputId": "589a1706-627a-44a0-c2ee-b2d7a4ecca17"
      },
      "source": [
        "positive = data[data['Admitted'].isin([1])]\n",
        "negative = data[data['Admitted'].isin([0])]\n",
        "x_values = [np.min(X[:, 1] - 5), np.max(X[:, 2] + 5)]\n",
        "y_values = - (opt_weights[0][0] + np.dot(opt_weights[0][1], x_values)) / opt_weights[0][2]\n",
        "\n",
        "\n",
        "plt.plot(x_values, y_values, label='Decision Boundary')\n",
        "plt.scatter(positive['Exam 1'], positive['Exam 2'], s=50, c='b', marker='o', label='Admitted')\n",
        "plt.scatter(negative['Exam 1'], negative['Exam 2'], s=50, c='r', marker='x', label='Not Admitted')\n",
        "plt.legend()"
      ],
      "execution_count": 291,
      "outputs": [
        {
          "output_type": "execute_result",
          "data": {
            "text/plain": [
              "<matplotlib.legend.Legend at 0x7f8dbfc18a10>"
            ]
          },
          "metadata": {
            "tags": []
          },
          "execution_count": 291
        },
        {
          "output_type": "display_data",
          "data": {
            "image/png": "[encoded data removed]",
            "text/plain": [
              "<Figure size 432x288 with 1 Axes>"
            ]
          },
          "metadata": {
            "tags": [],
            "needs_background": "light"
          }
        }
      ]
    }
  ]
}
