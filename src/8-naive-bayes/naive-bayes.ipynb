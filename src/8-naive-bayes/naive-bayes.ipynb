{
  "nbformat": 4,
  "nbformat_minor": 0,
  "metadata": {
    "colab": {
      "name": "naive-bayes.ipynb",
      "provenance": [],
      "authorship_tag": "ABX9TyPuiX8hcRX95qN0y9XTRN5v",
      "include_colab_link": true
    },
    "kernelspec": {
      "name": "python3",
      "display_name": "Python 3"
    },
    "language_info": {
      "name": "python"
    }
  },
  "cells": [
    {
      "cell_type": "markdown",
      "metadata": {
        "id": "view-in-github",
        "colab_type": "text"
      },
      "source": [
        "<a href=\"https://colab.research.google.com/github/thiagolermen/machine-learning-portifolio/blob/main/src/8-naive-bayes/naive-bayes.ipynb\" target=\"_parent\"><img src=\"https://colab.research.google.com/assets/colab-badge.svg\" alt=\"Open In Colab\"/></a>"
      ]
    },
    {
      "cell_type": "markdown",
      "metadata": {
        "id": "JAJNjpoEF0cr"
      },
      "source": [
        "# Naive Bayes"
      ]
    },
    {
      "cell_type": "markdown",
      "metadata": {
        "id": "RisfS2CiI2sY"
      },
      "source": [
        "## Imports"
      ]
    },
    {
      "cell_type": "code",
      "metadata": {
        "id": "kjma4egzFxE9"
      },
      "source": [
        "import numpy as np"
      ],
      "execution_count": 1,
      "outputs": []
    },
    {
      "cell_type": "markdown",
      "metadata": {
        "id": "n9GMvnT6I4R4"
      },
      "source": [
        "## Naive Bayes"
      ]
    },
    {
      "cell_type": "code",
      "metadata": {
        "id": "UKFWJF6cJJ9N"
      },
      "source": [
        "class NaiveBayes():\n",
        "  def __init__(self, X, y):\n",
        "    self.num_examples, self.num_features = X.shape\n",
        "    self.num_classes = len(np.unique(y))\n",
        "    self.eps = 1e-6\n",
        "\n",
        "\n",
        "  def fit(self, X):\n",
        "    self.classes_mean = {}\n",
        "    self.classes_variance = {}\n",
        "    self.classes_prior = {}\n",
        "\n",
        "    for c in range(self.num_classes):\n",
        "      X_c = X[y == c]\n",
        "\n",
        "      self.classes_mean[str(c)] = np.mean(X_c, axis=0)\n",
        "      self.classes_variance[str(c)] = np.var(X_c, axis=0)\n",
        "      self.classes_prior[str(c)] = X_c.shape[0] / X.shape[0]\n",
        "\n",
        "  def predict(self, X):\n",
        "    probs = np.zeros((self.num_examples, self.num_classes))\n",
        "\n",
        "    for c in range(self.num_classes):\n",
        "      prior = self.classes_prior[str(c)]\n",
        "      probs_c = self.density_function(\n",
        "      X, self.classes_mean[str(c)], self.classes_variance[str(c)])\n",
        "      probs[:, c] = probs_c + np.log(prior)\n",
        "\n",
        "    return np.argmax(probs, 1)\n",
        "\n",
        "  def density_function(self, x, mean, sigma):\n",
        "    # calculate probability from gaussian density function\n",
        "    const = -self.num_features / 2 * np.log(2 * np.pi) - 0.5 * np.sum(np.log(sigma + self.eps))\n",
        "    probs = 0.5 * np.sum(np.power(x - mean, 2) / (sigma + self.eps), 1)\n",
        "    return const - probs\n",
        "\n"
      ],
      "execution_count": 3,
      "outputs": []
    },
    {
      "cell_type": "markdown",
      "metadata": {
        "id": "9PuOhHU_KwLZ"
      },
      "source": [
        "## Test"
      ]
    },
    {
      "cell_type": "code",
      "metadata": {
        "id": "ECbYIGq5Kw2O",
        "outputId": "ef9f5257-7e2f-4f72-d058-8b877ca08aaa",
        "colab": {
          "base_uri": "https://localhost:8080/"
        }
      },
      "source": [
        "if __name__ == \"__main__\":\n",
        "    X = np.loadtxt(\"https://raw.githubusercontent.com/thiagolermen/machine-learning-portifolio/main/datasets/naivebayesdata.txt\", delimiter=\",\")\n",
        "    y = np.loadtxt(\"https://raw.githubusercontent.com/thiagolermen/machine-learning-portifolio/main/datasets/naivebayestargets.txt\") - 1\n",
        "\n",
        "    NB = NaiveBayes(X, y)\n",
        "    NB.fit(X)\n",
        "    y_pred = NB.predict(X)\n",
        "\n",
        "    print(f\"Accuracy: {sum(y_pred==y)/X.shape[0]}\")"
      ],
      "execution_count": 5,
      "outputs": [
        {
          "output_type": "stream",
          "text": [
            "Accuracy: 0.9\n"
          ],
          "name": "stdout"
        }
      ]
    }
  ]
}