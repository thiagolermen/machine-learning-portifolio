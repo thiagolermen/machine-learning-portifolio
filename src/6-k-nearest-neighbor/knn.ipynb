{
  "nbformat": 4,
  "nbformat_minor": 0,
  "metadata": {
    "colab": {
      "name": "knn.ipynb",
      "provenance": [],
      "authorship_tag": "ABX9TyPxFGtjvdFZnckF9ztrqLyD",
      "include_colab_link": true
    },
    "kernelspec": {
      "name": "python3",
      "display_name": "Python 3"
    },
    "language_info": {
      "name": "python"
    }
  },
  "cells": [
    {
      "cell_type": "markdown",
      "metadata": {
        "id": "view-in-github",
        "colab_type": "text"
      },
      "source": [
        "<a href=\"https://colab.research.google.com/github/thiagolermen/machine-learning-portifolio/blob/main/src/6-k-nearest-neighbor/knn.ipynb\" target=\"_parent\"><img src=\"https://colab.research.google.com/assets/colab-badge.svg\" alt=\"Open In Colab\"/></a>"
      ]
    },
    {
      "cell_type": "markdown",
      "metadata": {
        "id": "cjUGfPCQFFY1"
      },
      "source": [
        "## K-Nearest Neighbor - KNN"
      ]
    },
    {
      "cell_type": "markdown",
      "metadata": {
        "id": "QvxIaYtuw5ql"
      },
      "source": [
        "## Imports\n"
      ]
    },
    {
      "cell_type": "code",
      "metadata": {
        "id": "J6RLYF1IFFCR"
      },
      "source": [
        "import numpy as np"
      ],
      "execution_count": 1,
      "outputs": []
    },
    {
      "cell_type": "markdown",
      "metadata": {
        "id": "kZyVS7rVxARY"
      },
      "source": [
        "## KNN"
      ]
    },
    {
      "cell_type": "code",
      "metadata": {
        "id": "cE5Gcr7UxCap"
      },
      "source": [
        "class KNearestNeighbor():\n",
        "  def __init__(self, k):\n",
        "    self.k = k\n",
        "    self.eps = 1e-8\n",
        "\n",
        "  def train(self, X, y):\n",
        "    self.X_train = X\n",
        "    self.y_train = y\n",
        "\n",
        "  def predict(self, X_test, num_loops=2):\n",
        "\n",
        "    if num_loops == 1:\n",
        "      distances = self.compute_distance_one(X_test)\n",
        "    elif num_loops == 2:\n",
        "      distances = self.compute_distance_two(X_test)\n",
        "    else:\n",
        "      distances = self.compute_distance_vec(X_test)\n",
        "\n",
        "    return self.predict_labels(distances)\n",
        "\n",
        "  def compute_distance_vec(self, X_test):\n",
        "    X_test_squared = np.sum(X_test ** 2, axis=1, keepdims=True)\n",
        "    X_train_squared = np.sum(self.X_train ** 2, axis=1, keepdims=True)\n",
        "    two_X_test_X_train = np.dot(X_test, self.X_train.T)\n",
        "\n",
        "    # (Taking sqrt is not necessary: min distance won't change since sqrt is monotone)\n",
        "    return np.sqrt(self.eps + X_test_squared - 2 * two_X_test_X_train + X_train_squared.T)\n",
        "\n",
        "  def compute_distance_one(self, X_test):\n",
        "    num_test = X_test.shape[0]\n",
        "    num_train = self.X_train.shape[0]\n",
        "    distances = np.zeros((num_test, num_train))\n",
        "\n",
        "    for i in range(num_test):\n",
        "      distances[i, :] = np.sqrt(np.sum((self.X_train - X_test[i, :])**2, axis=1))\n",
        "\n",
        "    return distances\n",
        "\n",
        "  def compute_distance_two(self, X_test):\n",
        "    # Naive, inefficient way\n",
        "    num_test = X_test.shape[0]\n",
        "    num_train = self.X_train.shape[0]\n",
        "    distances = np.zeros((num_test, num_train))\n",
        "\n",
        "    for i in range(num_test):\n",
        "      for j in range(num_train):\n",
        "        distances[i, j] = np.sqrt(np.sum((X_test[i, :] - self.X_train[j, :])**2))\n",
        "\n",
        "    return distances\n",
        "\n",
        "  def predict_labels(self, distances):\n",
        "    num_test = distances.shape[0]\n",
        "    y_pred = np.zeros(num_test)\n",
        "\n",
        "    for i in range(num_test):\n",
        "      y_indices = np.argsort(distances[i, :])\n",
        "      k_closest_classes = self.y_train[y_indices[:self.k]].astype(int)\n",
        "      y_pred[i] = np.argmax(np.bincount(k_closest_classes))\n",
        "\n",
        "    return y_pred\n"
      ],
      "execution_count": 10,
      "outputs": []
    },
    {
      "cell_type": "markdown",
      "metadata": {
        "id": "lonphoRfxaKq"
      },
      "source": [
        "## Test"
      ]
    },
    {
      "cell_type": "code",
      "metadata": {
        "colab": {
          "base_uri": "https://localhost:8080/"
        },
        "id": "gLQw5a7-xZSc",
        "outputId": "bbac7f7d-4d1e-4a0f-965d-5352dbf512df"
      },
      "source": [
        "if __name__ == '__main__':\n",
        "  X = np.loadtxt('https://raw.githubusercontent.com/thiagolermen/machine-learning-portifolio/main/datasets/knndata.txt', delimiter=',')\n",
        "  y = np.loadtxt('https://raw.githubusercontent.com/thiagolermen/machine-learning-portifolio/main/datasets/knntargets.txt')\n",
        "\n",
        "  KNN = KNearestNeighbor(k=3)\n",
        "  KNN.train(X, y)\n",
        "\n",
        "  y_pred = KNN.predict(X, num_loops=2)\n",
        "  print(f'Accuracy Naive: {sum(y_pred==y)/y.shape[0]}')\n",
        "\n",
        "  y_pred = KNN.predict(X, num_loops=1)\n",
        "  print(f'Accuracy with broadcasting: {sum(y_pred==y)/y.shape[0]}')\n",
        "\n",
        "  y_pred = KNN.predict(X, num_loops=3)\n",
        "  print(f'Accuracy with vectorization: {sum(y_pred==y)/y.shape[0]}')"
      ],
      "execution_count": 12,
      "outputs": [
        {
          "output_type": "stream",
          "text": [
            "Accuracy Naive: 0.9333333333333333\n",
            "Accuracy with broadcasting: 0.9333333333333333\n",
            "Accuracy with vectorization: 0.9333333333333333\n"
          ],
          "name": "stdout"
        }
      ]
    }
  ]
}