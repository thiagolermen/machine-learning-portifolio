{
  "nbformat": 4,
  "nbformat_minor": 0,
  "metadata": {
    "colab": {
      "name": "text-generator.ipynb",
      "provenance": [],
      "authorship_tag": "ABX9TyOSSe4RveUqsptAcKLJlF18",
      "include_colab_link": true
    },
    "kernelspec": {
      "name": "python3",
      "display_name": "Python 3"
    },
    "language_info": {
      "name": "python"
    }
  },
  "cells": [
    {
      "cell_type": "markdown",
      "metadata": {
        "id": "view-in-github",
        "colab_type": "text"
      },
      "source": [
        "<a href=\"https://colab.research.google.com/github/thiagolermen/machine-learning-portifolio/blob/main/src/projects/text-generator.ipynb\" target=\"_parent\"><img src=\"https://colab.research.google.com/assets/colab-badge.svg\" alt=\"Open In Colab\"/></a>"
      ]
    },
    {
      "cell_type": "markdown",
      "metadata": {
        "id": "xF5vqgAI6Nhn"
      },
      "source": [
        "# Text Generator using LSTM - PyTorch"
      ]
    },
    {
      "cell_type": "code",
      "metadata": {
        "id": "rYwPgZTK6DXX"
      },
      "source": [
        ""
      ],
      "execution_count": null,
      "outputs": []
    }
  ]
}