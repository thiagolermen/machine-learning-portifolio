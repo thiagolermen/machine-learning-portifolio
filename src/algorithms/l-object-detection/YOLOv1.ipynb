{
  "nbformat": 4,
  "nbformat_minor": 0,
  "metadata": {
    "colab": {
      "name": "YOLOv1.ipynb",
      "provenance": [],
      "authorship_tag": "ABX9TyPGxrJSRsuCdPx28DAJP8xM",
      "include_colab_link": true
    },
    "kernelspec": {
      "name": "python3",
      "display_name": "Python 3"
    },
    "language_info": {
      "name": "python"
    }
  },
  "cells": [
    {
      "cell_type": "markdown",
      "metadata": {
        "id": "view-in-github",
        "colab_type": "text"
      },
      "source": [
        "<a href=\"https://colab.research.google.com/github/thiagolermen/machine-learning-portifolio/blob/main/src/12-object-detection/YOLOv1.ipynb\" target=\"_parent\"><img src=\"https://colab.research.google.com/assets/colab-badge.svg\" alt=\"Open In Colab\"/></a>"
      ]
    },
    {
      "cell_type": "markdown",
      "metadata": {
        "id": "xF5vqgAI6Nhn"
      },
      "source": [
        "# YOLO v1 from scratch"
      ]
    },
    {
      "cell_type": "code",
      "metadata": {
        "id": "rYwPgZTK6DXX"
      },
      "source": [
        ""
      ],
      "execution_count": null,
      "outputs": []
    }
  ]
}