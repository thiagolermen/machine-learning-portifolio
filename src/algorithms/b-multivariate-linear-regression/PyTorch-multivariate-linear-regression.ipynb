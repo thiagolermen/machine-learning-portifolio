{
  "nbformat": 4,
  "nbformat_minor": 0,
  "metadata": {
    "colab": {
      "name": "PyTorch-multivariate-linear-regression.ipynb",
      "provenance": [],
      "authorship_tag": "ABX9TyNV6FNdCJT6igYWHczliJRZ",
      "include_colab_link": true
    },
    "kernelspec": {
      "name": "python3",
      "display_name": "Python 3"
    },
    "language_info": {
      "name": "python"
    }
  },
  "cells": [
    {
      "cell_type": "markdown",
      "metadata": {
        "id": "view-in-github",
        "colab_type": "text"
      },
      "source": [
        "<a href=\"https://colab.research.google.com/github/thiagolermen/ml-course/blob/main/src/2-multivariate-linear-regression/PyTorch-multivariate-linea-regression.ipynb\" target=\"_parent\"><img src=\"https://colab.research.google.com/assets/colab-badge.svg\" alt=\"Open In Colab\"/></a>"
      ]
    },
    {
      "cell_type": "markdown",
      "metadata": {
        "id": "0-S8MV6ho2wk"
      },
      "source": [
        "# Multivariate Linear Regression - PyTorch"
      ]
    },
    {
      "cell_type": "markdown",
      "metadata": {
        "id": "cmOoQ_3wpCmF"
      },
      "source": [
        "We're gonna predict the price that a house will sell for. The difference this time around is we have more than one dependent variable. We're given both the size of the house in square feet, and the number of bedrooms in the house"
      ]
    },
    {
      "cell_type": "markdown",
      "metadata": {
        "id": "gHkyXd9ypTMN"
      },
      "source": [
        "## Imports"
      ]
    },
    {
      "cell_type": "code",
      "metadata": {
        "id": "6bQ2pjG6p1hG"
      },
      "source": [
        "import os\n",
        "import numpy as np\n",
        "import pandas as pd\n",
        "import matplotlib.pyplot as plt\n",
        "%matplotlib inline\n",
        "\n",
        "import torch\n",
        "import torch.nn as nn"
      ],
      "execution_count": 5,
      "outputs": []
    },
    {
      "cell_type": "markdown",
      "metadata": {
        "id": "uCHp6dOTpdxW"
      },
      "source": [
        "## Dataset"
      ]
    },
    {
      "cell_type": "code",
      "metadata": {
        "colab": {
          "base_uri": "https://localhost:8080/",
          "height": 204
        },
        "id": "XpOBjf-Wpg5o",
        "outputId": "a8604453-dc6a-40b3-e8da-dc09975e77e2"
      },
      "source": [
        "path = 'https://raw.githubusercontent.com/thiagolermen/ml-course/main/data/ex1data2.txt?token=AL353PBOIXU364U56BAPW6TAXPWLS'\n",
        "data = pd.read_csv(path, header=None, names=['Size', 'Bedrooms', 'Price'])\n",
        "data.head()"
      ],
      "execution_count": 6,
      "outputs": [
        {
          "output_type": "execute_result",
          "data": {
            "text/html": [
              "<div>\n",
              "<style scoped>\n",
              "    .dataframe tbody tr th:only-of-type {\n",
              "        vertical-align: middle;\n",
              "    }\n",
              "\n",
              "    .dataframe tbody tr th {\n",
              "        vertical-align: top;\n",
              "    }\n",
              "\n",
              "    .dataframe thead th {\n",
              "        text-align: right;\n",
              "    }\n",
              "</style>\n",
              "<table border=\"1\" class=\"dataframe\">\n",
              "  <thead>\n",
              "    <tr style=\"text-align: right;\">\n",
              "      <th></th>\n",
              "      <th>Size</th>\n",
              "      <th>Bedrooms</th>\n",
              "      <th>Price</th>\n",
              "    </tr>\n",
              "  </thead>\n",
              "  <tbody>\n",
              "    <tr>\n",
              "      <th>0</th>\n",
              "      <td>2104</td>\n",
              "      <td>3</td>\n",
              "      <td>399900</td>\n",
              "    </tr>\n",
              "    <tr>\n",
              "      <th>1</th>\n",
              "      <td>1600</td>\n",
              "      <td>3</td>\n",
              "      <td>329900</td>\n",
              "    </tr>\n",
              "    <tr>\n",
              "      <th>2</th>\n",
              "      <td>2400</td>\n",
              "      <td>3</td>\n",
              "      <td>369000</td>\n",
              "    </tr>\n",
              "    <tr>\n",
              "      <th>3</th>\n",
              "      <td>1416</td>\n",
              "      <td>2</td>\n",
              "      <td>232000</td>\n",
              "    </tr>\n",
              "    <tr>\n",
              "      <th>4</th>\n",
              "      <td>3000</td>\n",
              "      <td>4</td>\n",
              "      <td>539900</td>\n",
              "    </tr>\n",
              "  </tbody>\n",
              "</table>\n",
              "</div>"
            ],
            "text/plain": [
              "   Size  Bedrooms   Price\n",
              "0  2104         3  399900\n",
              "1  1600         3  329900\n",
              "2  2400         3  369000\n",
              "3  1416         2  232000\n",
              "4  3000         4  539900"
            ]
          },
          "metadata": {
            "tags": []
          },
          "execution_count": 6
        }
      ]
    },
    {
      "cell_type": "markdown",
      "metadata": {
        "id": "hlVf7DcDpoQF"
      },
      "source": [
        "### Data normalization"
      ]
    },
    {
      "cell_type": "code",
      "metadata": {
        "colab": {
          "base_uri": "https://localhost:8080/",
          "height": 204
        },
        "id": "tWsRCnrspp4c",
        "outputId": "d2591c78-0c35-4f37-8f07-e5ad8d8263d8"
      },
      "source": [
        "# We put this values normally distributed\n",
        "data = (data - data.mean())/data.std()\n",
        "data.head()"
      ],
      "execution_count": 7,
      "outputs": [
        {
          "output_type": "execute_result",
          "data": {
            "text/html": [
              "<div>\n",
              "<style scoped>\n",
              "    .dataframe tbody tr th:only-of-type {\n",
              "        vertical-align: middle;\n",
              "    }\n",
              "\n",
              "    .dataframe tbody tr th {\n",
              "        vertical-align: top;\n",
              "    }\n",
              "\n",
              "    .dataframe thead th {\n",
              "        text-align: right;\n",
              "    }\n",
              "</style>\n",
              "<table border=\"1\" class=\"dataframe\">\n",
              "  <thead>\n",
              "    <tr style=\"text-align: right;\">\n",
              "      <th></th>\n",
              "      <th>Size</th>\n",
              "      <th>Bedrooms</th>\n",
              "      <th>Price</th>\n",
              "    </tr>\n",
              "  </thead>\n",
              "  <tbody>\n",
              "    <tr>\n",
              "      <th>0</th>\n",
              "      <td>0.130010</td>\n",
              "      <td>-0.223675</td>\n",
              "      <td>0.475747</td>\n",
              "    </tr>\n",
              "    <tr>\n",
              "      <th>1</th>\n",
              "      <td>-0.504190</td>\n",
              "      <td>-0.223675</td>\n",
              "      <td>-0.084074</td>\n",
              "    </tr>\n",
              "    <tr>\n",
              "      <th>2</th>\n",
              "      <td>0.502476</td>\n",
              "      <td>-0.223675</td>\n",
              "      <td>0.228626</td>\n",
              "    </tr>\n",
              "    <tr>\n",
              "      <th>3</th>\n",
              "      <td>-0.735723</td>\n",
              "      <td>-1.537767</td>\n",
              "      <td>-0.867025</td>\n",
              "    </tr>\n",
              "    <tr>\n",
              "      <th>4</th>\n",
              "      <td>1.257476</td>\n",
              "      <td>1.090417</td>\n",
              "      <td>1.595389</td>\n",
              "    </tr>\n",
              "  </tbody>\n",
              "</table>\n",
              "</div>"
            ],
            "text/plain": [
              "       Size  Bedrooms     Price\n",
              "0  0.130010 -0.223675  0.475747\n",
              "1 -0.504190 -0.223675 -0.084074\n",
              "2  0.502476 -0.223675  0.228626\n",
              "3 -0.735723 -1.537767 -0.867025\n",
              "4  1.257476  1.090417  1.595389"
            ]
          },
          "metadata": {
            "tags": []
          },
          "execution_count": 7
        }
      ]
    },
    {
      "cell_type": "markdown",
      "metadata": {
        "id": "YhSIi_f1qAjB"
      },
      "source": [
        "### Data preprocessing"
      ]
    },
    {
      "cell_type": "code",
      "metadata": {
        "id": "0qbI_wivp3b9"
      },
      "source": [
        "# set X (training data) and y (target variable)\n",
        "X = data.iloc[:,0:2]\n",
        "y = data.iloc[:,2:]\n",
        "\n",
        "# convert to matrices and initialize theta\n",
        "X = np.matrix(X.values, dtype=\"float32\")\n",
        "y = np.matrix(y.values, dtype=\"float32\")\n",
        "\n",
        "# convert to torch tensor\n",
        "X = torch.from_numpy(X)\n",
        "y = torch.from_numpy(y)"
      ],
      "execution_count": 8,
      "outputs": []
    },
    {
      "cell_type": "code",
      "metadata": {
        "colab": {
          "base_uri": "https://localhost:8080/"
        },
        "id": "KCk6rsFIqPB-",
        "outputId": "99a22ec6-1cf2-47b6-e6ad-65af34a0628a"
      },
      "source": [
        "X.shape, y.shape"
      ],
      "execution_count": 9,
      "outputs": [
        {
          "output_type": "execute_result",
          "data": {
            "text/plain": [
              "(torch.Size([47, 2]), torch.Size([47, 1]))"
            ]
          },
          "metadata": {
            "tags": []
          },
          "execution_count": 9
        }
      ]
    },
    {
      "cell_type": "markdown",
      "metadata": {
        "id": "y6-WQ_U71qDi"
      },
      "source": [
        "Create TensorDataset"
      ]
    },
    {
      "cell_type": "code",
      "metadata": {
        "colab": {
          "base_uri": "https://localhost:8080/"
        },
        "id": "F05beKQc0sud",
        "outputId": "eb34da2f-4446-42f6-824a-78cf6494417b"
      },
      "source": [
        "from torch.utils.data import TensorDataset\n",
        "# create a TensorDataset\n",
        "train_ds = TensorDataset(X, y)\n",
        "train_ds[0:3]"
      ],
      "execution_count": 11,
      "outputs": [
        {
          "output_type": "execute_result",
          "data": {
            "text/plain": [
              "(tensor([[ 0.1300, -0.2237],\n",
              "         [-0.5042, -0.2237],\n",
              "         [ 0.5025, -0.2237]]), tensor([[ 0.4757],\n",
              "         [-0.0841],\n",
              "         [ 0.2286]]))"
            ]
          },
          "metadata": {
            "tags": []
          },
          "execution_count": 11
        }
      ]
    },
    {
      "cell_type": "markdown",
      "metadata": {
        "id": "PuBTtkfo1sdt"
      },
      "source": [
        "Create DataLoader"
      ]
    },
    {
      "cell_type": "code",
      "metadata": {
        "id": "lbi6MeYP1WZF"
      },
      "source": [
        "from torch.utils.data import DataLoader\n",
        "# create DataLoader\n",
        "batch_size = 4\n",
        "train_dl = DataLoader(train_ds, batch_size, shuffle=True)"
      ],
      "execution_count": 12,
      "outputs": []
    },
    {
      "cell_type": "markdown",
      "metadata": {
        "id": "HyStiEPX2KNo"
      },
      "source": [
        "Prints the first batch"
      ]
    },
    {
      "cell_type": "code",
      "metadata": {
        "colab": {
          "base_uri": "https://localhost:8080/"
        },
        "id": "RbQTpWY01_WW",
        "outputId": "5b1dd747-acf1-45a7-b62b-dcea520f4c5a"
      },
      "source": [
        "for xb, yb in train_dl:\n",
        "  print(xb)\n",
        "  print(yb)\n",
        "  break"
      ],
      "execution_count": 14,
      "outputs": [
        {
          "output_type": "stream",
          "text": [
            "tensor([[-0.2940, -0.2237],\n",
            "        [ 0.7126,  1.0904],\n",
            "        [ 1.2575,  1.0904],\n",
            "        [ 1.2965,  1.0904]])\n",
            "tensor([[-0.6999],\n",
            "        [-0.2112],\n",
            "        [ 1.5954],\n",
            "        [ 2.0680]])\n"
          ],
          "name": "stdout"
        }
      ]
    },
    {
      "cell_type": "markdown",
      "metadata": {
        "id": "9EPq436D2wtz"
      },
      "source": [
        "## nn.Linear"
      ]
    },
    {
      "cell_type": "markdown",
      "metadata": {
        "id": "aHrgy4ik20AN"
      },
      "source": [
        "Instead of initializing the weights & biases manually, we can define the model using the nn.Linear class from PyTorch, which does it automatically."
      ]
    },
    {
      "cell_type": "code",
      "metadata": {
        "colab": {
          "base_uri": "https://localhost:8080/"
        },
        "id": "Qz0WHE3g21Cm",
        "outputId": "ef53d12a-46c4-49b2-bc4f-9c30a4e1f9f1"
      },
      "source": [
        "model = nn.Linear(2,1)\n",
        "print(model.weight)\n",
        "print(model.bias)"
      ],
      "execution_count": 15,
      "outputs": [
        {
          "output_type": "stream",
          "text": [
            "Parameter containing:\n",
            "tensor([[-0.2417, -0.3701]], requires_grad=True)\n",
            "Parameter containing:\n",
            "tensor([0.4146], requires_grad=True)\n"
          ],
          "name": "stdout"
        }
      ]
    },
    {
      "cell_type": "code",
      "metadata": {
        "colab": {
          "base_uri": "https://localhost:8080/"
        },
        "id": "zGk57aqU3JkM",
        "outputId": "f6ce622a-caa4-4d73-d725-815ff2d4e65c"
      },
      "source": [
        "list(model.parameters())"
      ],
      "execution_count": 16,
      "outputs": [
        {
          "output_type": "execute_result",
          "data": {
            "text/plain": [
              "[Parameter containing:\n",
              " tensor([[-0.2417, -0.3701]], requires_grad=True), Parameter containing:\n",
              " tensor([0.4146], requires_grad=True)]"
            ]
          },
          "metadata": {
            "tags": []
          },
          "execution_count": 16
        }
      ]
    },
    {
      "cell_type": "markdown",
      "metadata": {
        "id": "g9e8HL_I3PA6"
      },
      "source": [
        "Predictions"
      ]
    },
    {
      "cell_type": "code",
      "metadata": {
        "colab": {
          "base_uri": "https://localhost:8080/"
        },
        "id": "dRsrQfNW3Pz9",
        "outputId": "4ebc0d31-9723-4fd9-a55c-6e662918f5f0"
      },
      "source": [
        "preds = model(X)\n",
        "preds"
      ],
      "execution_count": 18,
      "outputs": [
        {
          "output_type": "execute_result",
          "data": {
            "text/plain": [
              "tensor([[ 4.6596e-01],\n",
              "        [ 6.1923e-01],\n",
              "        [ 3.7594e-01],\n",
              "        [ 1.1616e+00],\n",
              "        [-2.9290e-01],\n",
              "        [ 1.5778e-02],\n",
              "        [ 6.3930e-01],\n",
              "        [ 6.7184e-01],\n",
              "        [ 6.8614e-01],\n",
              "        [ 6.5147e-01],\n",
              "        [ 2.9463e-02],\n",
              "        [ 4.9758e-01],\n",
              "        [ 5.3104e-01],\n",
              "        [-1.2287e+00],\n",
              "        [ 7.2020e-01],\n",
              "        [-8.0018e-02],\n",
              "        [ 1.1907e+00],\n",
              "        [ 7.2993e-01],\n",
              "        [-1.7399e-01],\n",
              "        [-3.0233e-01],\n",
              "        [ 5.6844e-01],\n",
              "        [ 1.0180e+00],\n",
              "        [ 6.1801e-01],\n",
              "        [ 2.2773e-02],\n",
              "        [-7.7195e-02],\n",
              "        [ 7.7129e-01],\n",
              "        [ 6.6241e-01],\n",
              "        [ 3.3762e-01],\n",
              "        [ 4.3676e-01],\n",
              "        [ 3.0386e-01],\n",
              "        [ 1.0329e+00],\n",
              "        [ 1.7744e+00],\n",
              "        [-9.4828e-04],\n",
              "        [ 1.5180e-01],\n",
              "        [ 6.8694e-02],\n",
              "        [ 6.6880e-01],\n",
              "        [ 7.2902e-01],\n",
              "        [-2.8927e-02],\n",
              "        [-6.6240e-01],\n",
              "        [-3.8050e-02],\n",
              "        [ 1.0861e+00],\n",
              "        [ 4.2520e-01],\n",
              "        [-1.6122e-01],\n",
              "        [ 7.4088e-01],\n",
              "        [ 1.3331e+00],\n",
              "        [ 5.6225e-02],\n",
              "        [ 7.3996e-01]], grad_fn=<AddmmBackward>)"
            ]
          },
          "metadata": {
            "tags": []
          },
          "execution_count": 18
        }
      ]
    },
    {
      "cell_type": "markdown",
      "metadata": {
        "id": "aEYh5O903Wal"
      },
      "source": [
        "## Loss function"
      ]
    },
    {
      "cell_type": "code",
      "metadata": {
        "id": "dtP-lE8B3Vnp"
      },
      "source": [
        "import torch.nn.functional as F\n",
        "# define loss function\n",
        "loss_fn = F.mse_loss"
      ],
      "execution_count": 19,
      "outputs": []
    },
    {
      "cell_type": "code",
      "metadata": {
        "colab": {
          "base_uri": "https://localhost:8080/"
        },
        "id": "z02SwXS23crW",
        "outputId": "9a0b5b63-13a0-4e55-9ef1-f1083bb9073f"
      },
      "source": [
        "loss = loss_fn(model(X), y)\n",
        "print(loss)"
      ],
      "execution_count": 20,
      "outputs": [
        {
          "output_type": "stream",
          "text": [
            "tensor(2.1648, grad_fn=<MseLossBackward>)\n"
          ],
          "name": "stdout"
        }
      ]
    },
    {
      "cell_type": "markdown",
      "metadata": {
        "id": "-l20JXlf3qcY"
      },
      "source": [
        "## Optimizer"
      ]
    },
    {
      "cell_type": "markdown",
      "metadata": {
        "id": "Rroltu6C3tZR"
      },
      "source": [
        "Instead of manually manipulating the model's weights & biases using gradients, we can use the optimizer ```optim.SGD```. SGD is short for \"stochastic gradient descent\". The term stochastic indicates that samples are selected in random batches instead of as a single group."
      ]
    },
    {
      "cell_type": "code",
      "metadata": {
        "id": "pvKl4qee3sVc"
      },
      "source": [
        "# define optimizer\n",
        "\n",
        "opt = torch.optim.SGD(model.parameters(), lr=1e-5)"
      ],
      "execution_count": 22,
      "outputs": []
    },
    {
      "cell_type": "markdown",
      "metadata": {
        "id": "haLDc-4l41AW"
      },
      "source": [
        "## Train the model"
      ]
    },
    {
      "cell_type": "code",
      "metadata": {
        "id": "U26NZ_GO42U_"
      },
      "source": [
        "def fit(num_epochs, model, loss_fn, opt, train_dl):\n",
        "\n",
        "  for epoch in range(num_epochs):\n",
        "\n",
        "    # Train with batches\n",
        "    for xb, yb in train_dl:\n",
        "\n",
        "      # 1: generate predictions\n",
        "      pred = model(xb)\n",
        "\n",
        "      # 2: calculate loss\n",
        "      loss = loss_fn(pred, yb)\n",
        "\n",
        "      # 3: compute gradients\n",
        "      loss.backward()\n",
        "\n",
        "      # 4: update parameters using gradients\n",
        "      opt.step()\n",
        "\n",
        "      # 5: reset the gradients to zero\n",
        "      opt.zero_grad()\n",
        "\n",
        "    if (epoch+1) % 10 == 0:\n",
        "      print(f'Epoch [{epoch+1}/{num_epochs}], Loss: {loss.item():.4f}')"
      ],
      "execution_count": 25,
      "outputs": []
    },
    {
      "cell_type": "code",
      "metadata": {
        "colab": {
          "base_uri": "https://localhost:8080/"
        },
        "id": "aNT9AxZu9r5O",
        "outputId": "d969f2e2-fd9b-4a7c-a2b6-32bb9f4cb0e3"
      },
      "source": [
        "fit(100, model, loss_fn, opt, train_dl)"
      ],
      "execution_count": 26,
      "outputs": [
        {
          "output_type": "stream",
          "text": [
            "Epoch [10/100], Loss: 1.3918\n",
            "Epoch [20/100], Loss: 1.1094\n",
            "Epoch [30/100], Loss: 3.3361\n",
            "Epoch [40/100], Loss: 0.9726\n",
            "Epoch [50/100], Loss: 0.2665\n",
            "Epoch [60/100], Loss: 1.8022\n",
            "Epoch [70/100], Loss: 1.5538\n",
            "Epoch [80/100], Loss: 2.5872\n",
            "Epoch [90/100], Loss: 2.6365\n",
            "Epoch [100/100], Loss: 0.4371\n"
          ],
          "name": "stdout"
        }
      ]
    },
    {
      "cell_type": "markdown",
      "metadata": {
        "id": "ybwZcXYE999n"
      },
      "source": [
        "## Predictions"
      ]
    },
    {
      "cell_type": "code",
      "metadata": {
        "colab": {
          "base_uri": "https://localhost:8080/"
        },
        "id": "E1DWPl9p978Q",
        "outputId": "6c5584e6-d979-4b73-f5e6-919ebf70a788"
      },
      "source": [
        "# generate predictions\n",
        "\n",
        "preds = model(X)\n",
        "preds"
      ],
      "execution_count": 27,
      "outputs": [
        {
          "output_type": "execute_result",
          "data": {
            "text/plain": [
              "tensor([[ 4.4464e-01],\n",
              "        [ 5.6036e-01],\n",
              "        [ 3.7668e-01],\n",
              "        [ 1.0329e+00],\n",
              "        [-1.9142e-01],\n",
              "        [ 4.1614e-02],\n",
              "        [ 5.7551e-01],\n",
              "        [ 6.0007e-01],\n",
              "        [ 6.1087e-01],\n",
              "        [ 5.8469e-01],\n",
              "        [ 5.1946e-02],\n",
              "        [ 4.6852e-01],\n",
              "        [ 4.9377e-01],\n",
              "        [-9.6111e-01],\n",
              "        [ 6.3658e-01],\n",
              "        [-3.0708e-02],\n",
              "        [ 1.0550e+00],\n",
              "        [ 6.4393e-01],\n",
              "        [-1.0165e-01],\n",
              "        [-1.9854e-01],\n",
              "        [ 5.2201e-01],\n",
              "        [ 9.2458e-01],\n",
              "        [ 5.5944e-01],\n",
              "        [ 4.6895e-02],\n",
              "        [ 3.4583e-02],\n",
              "        [ 6.7515e-01],\n",
              "        [ 5.9296e-01],\n",
              "        [ 3.4775e-01],\n",
              "        [ 4.2260e-01],\n",
              "        [ 3.2227e-01],\n",
              "        [ 9.3583e-01],\n",
              "        [ 1.5588e+00],\n",
              "        [ 2.8986e-02],\n",
              "        [ 2.0747e-01],\n",
              "        [ 8.1563e-02],\n",
              "        [ 5.9778e-01],\n",
              "        [ 6.4324e-01],\n",
              "        [ 7.8636e-03],\n",
              "        [-4.7038e-01],\n",
              "        [ 9.7579e-04],\n",
              "        [ 9.7601e-01],\n",
              "        [ 4.1387e-01],\n",
              "        [-9.2010e-02],\n",
              "        [ 6.5219e-01],\n",
              "        [ 1.1624e+00],\n",
              "        [ 7.2150e-02],\n",
              "        [ 6.5150e-01]], grad_fn=<AddmmBackward>)"
            ]
          },
          "metadata": {
            "tags": []
          },
          "execution_count": 27
        }
      ]
    },
    {
      "cell_type": "code",
      "metadata": {
        "colab": {
          "base_uri": "https://localhost:8080/"
        },
        "id": "19N9nLM7-FeX",
        "outputId": "d522f2b1-8bc3-4347-b9e7-173ff76f1b6d"
      },
      "source": [
        "# compare with targets\n",
        "y"
      ],
      "execution_count": 29,
      "outputs": [
        {
          "output_type": "execute_result",
          "data": {
            "text/plain": [
              "tensor([[ 0.4757],\n",
              "        [-0.0841],\n",
              "        [ 0.2286],\n",
              "        [-0.8670],\n",
              "        [ 1.5954],\n",
              "        [-0.3240],\n",
              "        [-0.2040],\n",
              "        [-1.1309],\n",
              "        [-1.0270],\n",
              "        [-0.7831],\n",
              "        [-0.8031],\n",
              "        [ 0.0527],\n",
              "        [-0.0833],\n",
              "        [ 2.8750],\n",
              "        [-0.6439],\n",
              "        [ 0.8756],\n",
              "        [-0.3240],\n",
              "        [-1.1237],\n",
              "        [ 1.2763],\n",
              "        [ 2.0680],\n",
              "        [-0.6999],\n",
              "        [-0.6831],\n",
              "        [-0.7799],\n",
              "        [-0.6439],\n",
              "        [ 1.8673],\n",
              "        [-0.7239],\n",
              "        [ 0.9924],\n",
              "        [ 1.0284],\n",
              "        [ 1.0764],\n",
              "        [-0.3240],\n",
              "        [ 0.0759],\n",
              "        [-1.3637],\n",
              "        [-0.2040],\n",
              "        [ 1.9153],\n",
              "        [-0.4360],\n",
              "        [-0.7239],\n",
              "        [-0.8838],\n",
              "        [ 0.0367],\n",
              "        [ 1.6682],\n",
              "        [-0.4272],\n",
              "        [ 0.2246],\n",
              "        [-0.0841],\n",
              "        [-0.2112],\n",
              "        [-0.3312],\n",
              "        [-1.2837],\n",
              "        [-0.3240],\n",
              "        [-0.8070]])"
            ]
          },
          "metadata": {
            "tags": []
          },
          "execution_count": 29
        }
      ]
    }
  ]
}
