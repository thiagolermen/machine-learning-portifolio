{
  "nbformat": 4,
  "nbformat_minor": 0,
  "metadata": {
    "colab": {
      "name": "PyTorch-multivariate-linear-regression-from-scratch.ipynb",
      "provenance": [],
      "authorship_tag": "ABX9TyN/curTiOCkHugq5zDNFyK6",
      "include_colab_link": true
    },
    "kernelspec": {
      "name": "python3",
      "display_name": "Python 3"
    },
    "language_info": {
      "name": "python"
    }
  },
  "cells": [
    {
      "cell_type": "markdown",
      "metadata": {
        "id": "view-in-github",
        "colab_type": "text"
      },
      "source": [
        "<a href=\"https://colab.research.google.com/github/thiagolermen/ml-course/blob/main/src/2-multivariate-linear-regression/PyTorch-multivariate-linear-regression-from_scratch.ipynb\" target=\"_parent\"><img src=\"https://colab.research.google.com/assets/colab-badge.svg\" alt=\"Open In Colab\"/></a>"
      ]
    },
    {
      "cell_type": "markdown",
      "metadata": {
        "id": "0-S8MV6ho2wk"
      },
      "source": [
        "# Multivariate Linear Regression - PyTorch"
      ]
    },
    {
      "cell_type": "markdown",
      "metadata": {
        "id": "cmOoQ_3wpCmF"
      },
      "source": [
        "We're gonna predict the price that a house will sell for. The difference this time around is we have more than one dependent variable. We're given both the size of the house in square feet, and the number of bedrooms in the house"
      ]
    },
    {
      "cell_type": "markdown",
      "metadata": {
        "id": "gHkyXd9ypTMN"
      },
      "source": [
        "## Imports"
      ]
    },
    {
      "cell_type": "code",
      "metadata": {
        "id": "6bQ2pjG6p1hG"
      },
      "source": [
        "import os\n",
        "import numpy as np\n",
        "import pandas as pd\n",
        "import matplotlib.pyplot as plt\n",
        "%matplotlib inline\n",
        "\n",
        "import torch"
      ],
      "execution_count": 1,
      "outputs": []
    },
    {
      "cell_type": "markdown",
      "metadata": {
        "id": "uCHp6dOTpdxW"
      },
      "source": [
        "## Dataset"
      ]
    },
    {
      "cell_type": "code",
      "metadata": {
        "colab": {
          "base_uri": "https://localhost:8080/",
          "height": 204
        },
        "id": "XpOBjf-Wpg5o",
        "outputId": "ad5cb67b-172b-40b8-9d43-3c42ce704289"
      },
      "source": [
        "path = 'https://raw.githubusercontent.com/thiagolermen/ml-course/main/data/ex1data2.txt?token=AL353PBOIXU364U56BAPW6TAXPWLS'\n",
        "data = pd.read_csv(path, header=None, names=['Size', 'Bedrooms', 'Price'])\n",
        "data.head()"
      ],
      "execution_count": 2,
      "outputs": [
        {
          "output_type": "execute_result",
          "data": {
            "text/html": [
              "<div>\n",
              "<style scoped>\n",
              "    .dataframe tbody tr th:only-of-type {\n",
              "        vertical-align: middle;\n",
              "    }\n",
              "\n",
              "    .dataframe tbody tr th {\n",
              "        vertical-align: top;\n",
              "    }\n",
              "\n",
              "    .dataframe thead th {\n",
              "        text-align: right;\n",
              "    }\n",
              "</style>\n",
              "<table border=\"1\" class=\"dataframe\">\n",
              "  <thead>\n",
              "    <tr style=\"text-align: right;\">\n",
              "      <th></th>\n",
              "      <th>Size</th>\n",
              "      <th>Bedrooms</th>\n",
              "      <th>Price</th>\n",
              "    </tr>\n",
              "  </thead>\n",
              "  <tbody>\n",
              "    <tr>\n",
              "      <th>0</th>\n",
              "      <td>2104</td>\n",
              "      <td>3</td>\n",
              "      <td>399900</td>\n",
              "    </tr>\n",
              "    <tr>\n",
              "      <th>1</th>\n",
              "      <td>1600</td>\n",
              "      <td>3</td>\n",
              "      <td>329900</td>\n",
              "    </tr>\n",
              "    <tr>\n",
              "      <th>2</th>\n",
              "      <td>2400</td>\n",
              "      <td>3</td>\n",
              "      <td>369000</td>\n",
              "    </tr>\n",
              "    <tr>\n",
              "      <th>3</th>\n",
              "      <td>1416</td>\n",
              "      <td>2</td>\n",
              "      <td>232000</td>\n",
              "    </tr>\n",
              "    <tr>\n",
              "      <th>4</th>\n",
              "      <td>3000</td>\n",
              "      <td>4</td>\n",
              "      <td>539900</td>\n",
              "    </tr>\n",
              "  </tbody>\n",
              "</table>\n",
              "</div>"
            ],
            "text/plain": [
              "   Size  Bedrooms   Price\n",
              "0  2104         3  399900\n",
              "1  1600         3  329900\n",
              "2  2400         3  369000\n",
              "3  1416         2  232000\n",
              "4  3000         4  539900"
            ]
          },
          "metadata": {
            "tags": []
          },
          "execution_count": 2
        }
      ]
    },
    {
      "cell_type": "markdown",
      "metadata": {
        "id": "hlVf7DcDpoQF"
      },
      "source": [
        "### Data normalization"
      ]
    },
    {
      "cell_type": "code",
      "metadata": {
        "colab": {
          "base_uri": "https://localhost:8080/",
          "height": 204
        },
        "id": "tWsRCnrspp4c",
        "outputId": "5f26e413-1257-477e-bfe4-f13b31a5f9b0"
      },
      "source": [
        "# We put this values normally distributed\n",
        "data = (data - data.mean())/data.std()\n",
        "data.head()"
      ],
      "execution_count": 3,
      "outputs": [
        {
          "output_type": "execute_result",
          "data": {
            "text/html": [
              "<div>\n",
              "<style scoped>\n",
              "    .dataframe tbody tr th:only-of-type {\n",
              "        vertical-align: middle;\n",
              "    }\n",
              "\n",
              "    .dataframe tbody tr th {\n",
              "        vertical-align: top;\n",
              "    }\n",
              "\n",
              "    .dataframe thead th {\n",
              "        text-align: right;\n",
              "    }\n",
              "</style>\n",
              "<table border=\"1\" class=\"dataframe\">\n",
              "  <thead>\n",
              "    <tr style=\"text-align: right;\">\n",
              "      <th></th>\n",
              "      <th>Size</th>\n",
              "      <th>Bedrooms</th>\n",
              "      <th>Price</th>\n",
              "    </tr>\n",
              "  </thead>\n",
              "  <tbody>\n",
              "    <tr>\n",
              "      <th>0</th>\n",
              "      <td>0.130010</td>\n",
              "      <td>-0.223675</td>\n",
              "      <td>0.475747</td>\n",
              "    </tr>\n",
              "    <tr>\n",
              "      <th>1</th>\n",
              "      <td>-0.504190</td>\n",
              "      <td>-0.223675</td>\n",
              "      <td>-0.084074</td>\n",
              "    </tr>\n",
              "    <tr>\n",
              "      <th>2</th>\n",
              "      <td>0.502476</td>\n",
              "      <td>-0.223675</td>\n",
              "      <td>0.228626</td>\n",
              "    </tr>\n",
              "    <tr>\n",
              "      <th>3</th>\n",
              "      <td>-0.735723</td>\n",
              "      <td>-1.537767</td>\n",
              "      <td>-0.867025</td>\n",
              "    </tr>\n",
              "    <tr>\n",
              "      <th>4</th>\n",
              "      <td>1.257476</td>\n",
              "      <td>1.090417</td>\n",
              "      <td>1.595389</td>\n",
              "    </tr>\n",
              "  </tbody>\n",
              "</table>\n",
              "</div>"
            ],
            "text/plain": [
              "       Size  Bedrooms     Price\n",
              "0  0.130010 -0.223675  0.475747\n",
              "1 -0.504190 -0.223675 -0.084074\n",
              "2  0.502476 -0.223675  0.228626\n",
              "3 -0.735723 -1.537767 -0.867025\n",
              "4  1.257476  1.090417  1.595389"
            ]
          },
          "metadata": {
            "tags": []
          },
          "execution_count": 3
        }
      ]
    },
    {
      "cell_type": "markdown",
      "metadata": {
        "id": "YhSIi_f1qAjB"
      },
      "source": [
        "### Data preprocessing"
      ]
    },
    {
      "cell_type": "code",
      "metadata": {
        "id": "0qbI_wivp3b9"
      },
      "source": [
        "# set X (training data) and y (target variable)\n",
        "X = data.iloc[:,0:2]\n",
        "y = data.iloc[:,2:]\n",
        "\n",
        "# convert to matrices and initialize theta\n",
        "X = np.matrix(X.values, dtype=\"float32\")\n",
        "y = np.matrix(y.values, dtype=\"float32\")\n",
        "\n",
        "# convert to torch tensor\n",
        "X = torch.from_numpy(X)\n",
        "y = torch.from_numpy(y)"
      ],
      "execution_count": 44,
      "outputs": []
    },
    {
      "cell_type": "code",
      "metadata": {
        "colab": {
          "base_uri": "https://localhost:8080/"
        },
        "id": "KCk6rsFIqPB-",
        "outputId": "e3a0acab-54f6-40b9-bde3-6b46432641df"
      },
      "source": [
        "X.shape, y.shape"
      ],
      "execution_count": 45,
      "outputs": [
        {
          "output_type": "execute_result",
          "data": {
            "text/plain": [
              "(torch.Size([47, 2]), torch.Size([47, 1]))"
            ]
          },
          "metadata": {
            "tags": []
          },
          "execution_count": 45
        }
      ]
    },
    {
      "cell_type": "code",
      "metadata": {
        "colab": {
          "base_uri": "https://localhost:8080/"
        },
        "id": "wIJGVegfqxCD",
        "outputId": "c92c04fb-8da6-4de8-cc11-fed2bea8051b"
      },
      "source": [
        "# initialize weights and biases\n",
        "w = torch.randn(1, 2, requires_grad=True)\n",
        "b = torch.randn(1, requires_grad=True)\n",
        "print(w)\n",
        "print(b)"
      ],
      "execution_count": 46,
      "outputs": [
        {
          "output_type": "stream",
          "text": [
            "tensor([[0.6531, 0.8529]], requires_grad=True)\n",
            "tensor([0.5608], requires_grad=True)\n"
          ],
          "name": "stdout"
        }
      ]
    },
    {
      "cell_type": "markdown",
      "metadata": {
        "id": "iGuoxhqop0Jz"
      },
      "source": [
        "## Model"
      ]
    },
    {
      "cell_type": "markdown",
      "metadata": {
        "id": "LXId2qsQrWQq"
      },
      "source": [
        "First we define the basic model to satisfy the linear regression expression as follows:\n",
        "\n",
        "$y = w x + b \\rightarrow X \\cdot W^T + b$"
      ]
    },
    {
      "cell_type": "code",
      "metadata": {
        "id": "E08nUSkQrQLH"
      },
      "source": [
        "def model(x):\n",
        "  return x @ w.t() + b"
      ],
      "execution_count": 47,
      "outputs": []
    },
    {
      "cell_type": "code",
      "metadata": {
        "colab": {
          "base_uri": "https://localhost:8080/"
        },
        "id": "aarqVZLRry5M",
        "outputId": "9384d5d5-e4f0-4234-9f93-b45808533a98"
      },
      "source": [
        "# Random predictions\n",
        "preds = model(X)\n",
        "print(preds)"
      ],
      "execution_count": 48,
      "outputs": [
        {
          "output_type": "stream",
          "text": [
            "tensor([[ 0.4549],\n",
            "        [ 0.0408],\n",
            "        [ 0.6982],\n",
            "        [-1.2313],\n",
            "        [ 2.3120],\n",
            "        [ 1.4779],\n",
            "        [-0.0135],\n",
            "        [-0.1014],\n",
            "        [-0.1400],\n",
            "        [-0.0464],\n",
            "        [ 1.4410],\n",
            "        [ 0.3695],\n",
            "        [ 0.2791],\n",
            "        [ 4.6474],\n",
            "        [-0.2321],\n",
            "        [ 1.7368],\n",
            "        [-1.3102],\n",
            "        [-0.2584],\n",
            "        [ 1.9907],\n",
            "        [ 2.3375],\n",
            "        [ 0.1780],\n",
            "        [-0.8434],\n",
            "        [ 0.0440],\n",
            "        [ 1.4590],\n",
            "        [ 1.9226],\n",
            "        [-0.3701],\n",
            "        [-0.0759],\n",
            "        [ 0.8017],\n",
            "        [ 0.5338],\n",
            "        [ 0.8929],\n",
            "        [-0.8837],\n",
            "        [-2.6939],\n",
            "        [ 1.5231],\n",
            "        [ 1.3038],\n",
            "        [ 1.3350],\n",
            "        [-0.0932],\n",
            "        [-0.2559],\n",
            "        [ 1.5987],\n",
            "        [ 3.3105],\n",
            "        [ 1.6234],\n",
            "        [-1.0275],\n",
            "        [ 0.5650],\n",
            "        [ 1.9562],\n",
            "        [-0.2880],\n",
            "        [-1.6947],\n",
            "        [ 1.3687],\n",
            "        [-0.2855]], grad_fn=<AddBackward0>)\n"
          ],
          "name": "stdout"
        }
      ]
    },
    {
      "cell_type": "markdown",
      "metadata": {
        "id": "Y9mJA-a7s1vU"
      },
      "source": [
        "## Loss function"
      ]
    },
    {
      "cell_type": "markdown",
      "metadata": {
        "id": "DALULWpGtJrh"
      },
      "source": [
        "Cost function\n",
        "\n",
        "$J(\\theta) = \\dfrac {1}{2m} \\displaystyle \\sum _{i=1}^m \\left ( \\hat{y}_{i}- y_{i} \\right)^2 = \\dfrac {1}{2m} \\displaystyle \\sum _{i=1}^m \\left (h_\\theta (x_{i}) - y_{i} \\right)^2$"
      ]
    },
    {
      "cell_type": "code",
      "metadata": {
        "id": "uNby4I65tIaK"
      },
      "source": [
        "# we calculate the mean squared error\n",
        "def mse(h, y):\n",
        "  diff = h - y\n",
        "  return torch.sum(diff * diff) / (diff.numel())"
      ],
      "execution_count": 49,
      "outputs": []
    },
    {
      "cell_type": "code",
      "metadata": {
        "colab": {
          "base_uri": "https://localhost:8080/"
        },
        "id": "x9Jpr4EItiev",
        "outputId": "7f6ac5dd-8b5f-42fe-e5dd-17b76de3b1a6"
      },
      "source": [
        "# compute loss\n",
        "loss = mse(preds, y)\n",
        "print(loss)"
      ],
      "execution_count": 50,
      "outputs": [
        {
          "output_type": "stream",
          "text": [
            "tensor(1.2018, grad_fn=<DivBackward0>)\n"
          ],
          "name": "stdout"
        }
      ]
    },
    {
      "cell_type": "markdown",
      "metadata": {
        "id": "d1kuh_5pttfD"
      },
      "source": [
        "In average each element in the prediction differs from the actual target by the square root of the loss. And that's pretty bad becasue the numbers we're trying to predict in had been normalized. It's called loss, because it indicates how bad the model is at predicting target variables."
      ]
    },
    {
      "cell_type": "markdown",
      "metadata": {
        "id": "ZCSFOlKTuZrm"
      },
      "source": [
        "## Compute gradients"
      ]
    },
    {
      "cell_type": "markdown",
      "metadata": {
        "id": "Hz-d2up3ugHJ"
      },
      "source": [
        "As we set ```require_grads=True``` for our weights and biases, now we can compute the gradients."
      ]
    },
    {
      "cell_type": "code",
      "metadata": {
        "id": "2eFTy-Chubez"
      },
      "source": [
        "loss.backward()"
      ],
      "execution_count": 51,
      "outputs": []
    },
    {
      "cell_type": "markdown",
      "metadata": {
        "id": "kx4qlzt0utnX"
      },
      "source": [
        "The gradients are sotrees in thr ```.grad``` properly of the respective tensors."
      ]
    },
    {
      "cell_type": "code",
      "metadata": {
        "colab": {
          "base_uri": "https://localhost:8080/"
        },
        "id": "HQIhj2B3uziw",
        "outputId": "3f78015a-ec7f-4619-8cba-ee533856020b"
      },
      "source": [
        "print(w)\n",
        "print(w.grad)"
      ],
      "execution_count": 52,
      "outputs": [
        {
          "output_type": "stream",
          "text": [
            "tensor([[0.6531, 0.8529]], requires_grad=True)\n",
            "tensor([[0.5396, 1.5197]])\n"
          ],
          "name": "stdout"
        }
      ]
    },
    {
      "cell_type": "code",
      "metadata": {
        "colab": {
          "base_uri": "https://localhost:8080/"
        },
        "id": "zmj_BwEdvbGX",
        "outputId": "cfbaaeb5-2c1c-4a5a-83a4-b556de067e74"
      },
      "source": [
        "w.grad.zero_()\n",
        "b.grad.zero_()\n",
        "print(w.grad)\n",
        "print(b.grad)"
      ],
      "execution_count": 53,
      "outputs": [
        {
          "output_type": "stream",
          "text": [
            "tensor([[0., 0.]])\n",
            "tensor([0.])\n"
          ],
          "name": "stdout"
        }
      ]
    },
    {
      "cell_type": "markdown",
      "metadata": {
        "id": "0GJNc0LKv_Yj"
      },
      "source": [
        "## Train with GD"
      ]
    },
    {
      "cell_type": "code",
      "metadata": {
        "id": "RJ82Tm48wA4O"
      },
      "source": [
        "# train for 100 epochs\n",
        "for i in range(100):\n",
        "  preds = model(X) # predictions\n",
        "  loss = mse(preds, y) # calcultae the loss\n",
        "  loss.backward() # compute gradients (derivatives)\n",
        "  with torch.no_grad(): # gardient descent\n",
        "    w -= w.grad * 1e-5\n",
        "    b -= b.grad * 1e-5\n",
        "    w.grad.zero_()\n",
        "    b.grad.zero_()"
      ],
      "execution_count": 54,
      "outputs": []
    },
    {
      "cell_type": "code",
      "metadata": {
        "colab": {
          "base_uri": "https://localhost:8080/"
        },
        "id": "uH9MXu_QwlkF",
        "outputId": "2b83635a-eac9-4630-e197-100aefca658f"
      },
      "source": [
        "# calculate the new loss\n",
        "preds = model(X)\n",
        "loss = mse(preds, y)\n",
        "print(loss)"
      ],
      "execution_count": 55,
      "outputs": [
        {
          "output_type": "stream",
          "text": [
            "tensor(1.1980, grad_fn=<DivBackward0>)\n"
          ],
          "name": "stdout"
        }
      ]
    },
    {
      "cell_type": "code",
      "metadata": {
        "colab": {
          "base_uri": "https://localhost:8080/"
        },
        "id": "fg3DpIFcw7ZN",
        "outputId": "3d1ac2ae-07e5-44d6-efad-53105874d57b"
      },
      "source": [
        "# Predictions\n",
        "preds, y"
      ],
      "execution_count": 56,
      "outputs": [
        {
          "output_type": "execute_result",
          "data": {
            "text/plain": [
              "(tensor([[ 0.4541],\n",
              "         [ 0.0402],\n",
              "         [ 0.6971],\n",
              "         [-1.2297],\n",
              "         [ 2.3086],\n",
              "         [ 1.4752],\n",
              "         [-0.0139],\n",
              "         [-0.1018],\n",
              "         [-0.1404],\n",
              "         [-0.0468],\n",
              "         [ 1.4382],\n",
              "         [ 0.3687],\n",
              "         [ 0.2784],\n",
              "         [ 4.6410],\n",
              "         [-0.2324],\n",
              "         [ 1.7338],\n",
              "         [-1.3085],\n",
              "         [-0.2586],\n",
              "         [ 1.9875],\n",
              "         [ 2.3340],\n",
              "         [ 0.1774],\n",
              "         [-0.8421],\n",
              "         [ 0.0435],\n",
              "         [ 1.4563],\n",
              "         [ 1.9206],\n",
              "         [-0.3703],\n",
              "         [-0.0764],\n",
              "         [ 0.8006],\n",
              "         [ 0.5329],\n",
              "         [ 0.8917],\n",
              "         [-0.8823],\n",
              "         [-2.6900],\n",
              "         [ 1.5203],\n",
              "         [ 1.3023],\n",
              "         [ 1.3323],\n",
              "         [-0.0936],\n",
              "         [-0.2562],\n",
              "         [ 1.5959],\n",
              "         [ 3.3062],\n",
              "         [ 1.6205],\n",
              "         [-1.0260],\n",
              "         [ 0.5641],\n",
              "         [ 1.9531],\n",
              "         [-0.2882],\n",
              "         [-1.6928],\n",
              "         [ 1.3660],\n",
              "         [-0.2857]], grad_fn=<AddBackward0>), tensor([[ 0.4757],\n",
              "         [-0.0841],\n",
              "         [ 0.2286],\n",
              "         [-0.8670],\n",
              "         [ 1.5954],\n",
              "         [-0.3240],\n",
              "         [-0.2040],\n",
              "         [-1.1309],\n",
              "         [-1.0270],\n",
              "         [-0.7831],\n",
              "         [-0.8031],\n",
              "         [ 0.0527],\n",
              "         [-0.0833],\n",
              "         [ 2.8750],\n",
              "         [-0.6439],\n",
              "         [ 0.8756],\n",
              "         [-0.3240],\n",
              "         [-1.1237],\n",
              "         [ 1.2763],\n",
              "         [ 2.0680],\n",
              "         [-0.6999],\n",
              "         [-0.6831],\n",
              "         [-0.7799],\n",
              "         [-0.6439],\n",
              "         [ 1.8673],\n",
              "         [-0.7239],\n",
              "         [ 0.9924],\n",
              "         [ 1.0284],\n",
              "         [ 1.0764],\n",
              "         [-0.3240],\n",
              "         [ 0.0759],\n",
              "         [-1.3637],\n",
              "         [-0.2040],\n",
              "         [ 1.9153],\n",
              "         [-0.4360],\n",
              "         [-0.7239],\n",
              "         [-0.8838],\n",
              "         [ 0.0367],\n",
              "         [ 1.6682],\n",
              "         [-0.4272],\n",
              "         [ 0.2246],\n",
              "         [-0.0841],\n",
              "         [-0.2112],\n",
              "         [-0.3312],\n",
              "         [-1.2837],\n",
              "         [-0.3240],\n",
              "         [-0.8070]]))"
            ]
          },
          "metadata": {
            "tags": []
          },
          "execution_count": 56
        }
      ]
    }
  ]
}