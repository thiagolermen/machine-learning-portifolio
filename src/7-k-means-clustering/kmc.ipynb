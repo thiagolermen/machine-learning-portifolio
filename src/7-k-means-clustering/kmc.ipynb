{
  "nbformat": 4,
  "nbformat_minor": 0,
  "metadata": {
    "colab": {
      "name": "kmc.ipynb",
      "provenance": [],
      "authorship_tag": "ABX9TyMmmDBPCSjOSvlHXVEPtOXp",
      "include_colab_link": true
    },
    "kernelspec": {
      "name": "python3",
      "display_name": "Python 3"
    },
    "language_info": {
      "name": "python"
    }
  },
  "cells": [
    {
      "cell_type": "markdown",
      "metadata": {
        "id": "view-in-github",
        "colab_type": "text"
      },
      "source": [
        "<a href=\"https://colab.research.google.com/github/thiagolermen/machine-learning-portifolio/blob/main/src/7-k-means-clustering/kmc.ipynb\" target=\"_parent\"><img src=\"https://colab.research.google.com/assets/colab-badge.svg\" alt=\"Open In Colab\"/></a>"
      ]
    },
    {
      "cell_type": "markdown",
      "metadata": {
        "id": "nkctf9FJFiMU"
      },
      "source": [
        "# K-Means Clustering"
      ]
    },
    {
      "cell_type": "markdown",
      "metadata": {
        "id": "BZfEoQl78WgU"
      },
      "source": [
        "## Imports"
      ]
    },
    {
      "cell_type": "code",
      "metadata": {
        "id": "jYNBBmGtFdcx"
      },
      "source": [
        "import numpy as np\n",
        "import matplotlib.pyplot as plt\n",
        "from sklearn.datasets import make_blobs"
      ],
      "execution_count": 1,
      "outputs": []
    },
    {
      "cell_type": "markdown",
      "metadata": {
        "id": "o_1gdZ7X9mAq"
      },
      "source": [
        "## KMC"
      ]
    },
    {
      "cell_type": "code",
      "metadata": {
        "id": "3Gl4yj799oCd"
      },
      "source": [
        "class KMeansClustering():\n",
        "  def __init__(self, X, num_clusters):\n",
        "    self.K = num_clusters\n",
        "    self.plot_figure = True\n",
        "    self.max_iterations = 100\n",
        "    self.num_examples, self.num_features = X.shape\n",
        "  \n",
        "  def initialize_random_centroids(self, X):\n",
        "    centroids = np.zeros((self.K, self.num_features))\n",
        "\n",
        "    for k in range(self.K):\n",
        "      centroid = X[np.random.choice(range(self.num_examples))]\n",
        "      centroids[k] = centroid\n",
        "\n",
        "    return centroids\n",
        "\n",
        "  def create_clusters(self, X, centroids):\n",
        "    clusters = [[] for _ in range(self.K)]\n",
        "\n",
        "    for point_idx, point in enumerate(X):\n",
        "      closest_centroid = np.argmin(np.sqrt(np.sum((point - centroids)**2, axis=1)))\n",
        "      clusters[closest_centroid].append(point_idx)\n",
        "\n",
        "    return clusters\n",
        "\n",
        "  def calculate_new_centroids(self, clusters, X):\n",
        "    centroids = np.zeros((self.K, self.num_features))\n",
        "\n",
        "    for idx, cluster in enumerate(clusters):\n",
        "      new_centroid = np.mean(X[cluster], axis=0)\n",
        "      centroids[idx] = new_centroid\n",
        "\n",
        "    return centroids\n",
        "\n",
        "  def predict_cluster(self, clusters, X):\n",
        "    y_pred = np.zeros(self.num_examples)\n",
        "\n",
        "    for cluster_idx, cluster in enumerate(clusters):\n",
        "      for sample_idx in cluster:\n",
        "        y_pred[sample_idx] = cluster_idx\n",
        "\n",
        "    return y_pred\n",
        "  \n",
        "  def plot_fig(self, X, y):\n",
        "    plt.scatter(X[:, 0], X[:, 1], c=y, s=40, cmap=plt.cm.Spectral)\n",
        "    plt.show()\n",
        "\n",
        "  def fit(self, X):\n",
        "    centroids = self.initialize_random_centroids(X)\n",
        "\n",
        "    for it in range(self.max_iterations):\n",
        "      clusters = self.create_clusters(X, centroids)\n",
        "\n",
        "      previous_centroids = centroids\n",
        "      centroids = self.calculate_new_centroids(clusters, X)\n",
        "\n",
        "      diff = centroids - previous_centroids\n",
        "\n",
        "    \n",
        "      if not diff.any():\n",
        "        print('Termination criterion satisfied, K means has converged')\n",
        "        break\n",
        "\n",
        "    y_pred = self.predict_cluster(clusters, X)\n",
        "\n",
        "    if self.plot_figure:\n",
        "      self.plot_fig(X, y_pred)\n",
        "\n",
        "    return y_pred\n",
        "\n",
        "      \n"
      ],
      "execution_count": 15,
      "outputs": []
    },
    {
      "cell_type": "markdown",
      "metadata": {
        "id": "oVfgd_Dr-PlU"
      },
      "source": [
        "## Test"
      ]
    },
    {
      "cell_type": "code",
      "metadata": {
        "id": "K6yeHk__-QXR",
        "outputId": "c7474405-cce4-4deb-ebc5-e6a012a4783b",
        "colab": {
          "base_uri": "https://localhost:8080/",
          "height": 282
        }
      },
      "source": [
        "if __name__ == '__main__':\n",
        "  np.random.seed(10)\n",
        "  num_clusters = 3\n",
        "  X, _ = make_blobs(n_samples=1000, n_features=2, centers=num_clusters)\n",
        "\n",
        "  Kmeans = KMeansClustering(X, num_clusters)\n",
        "  y_pred = Kmeans.fit(X)"
      ],
      "execution_count": 16,
      "outputs": [
        {
          "output_type": "stream",
          "text": [
            "Termination criterion satisfied, K means has converged\n"
          ],
          "name": "stdout"
        },
        {
          "output_type": "display_data",
          "data": {
            "image/png": "[encoded data removed]",
            "text/plain": [
              "<Figure size 432x288 with 1 Axes>"
            ]
          },
          "metadata": {
            "tags": [],
            "needs_background": "light"
          }
        }
      ]
    }
  ]
}